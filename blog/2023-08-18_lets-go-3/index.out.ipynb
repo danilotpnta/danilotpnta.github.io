{
  "cells": [
    {
      "cell_type": "markdown",
      "metadata": {},
      "source": [
        "# Lets go 3\n",
        "\n",
        "\\| [Danilo Toapanta]()  \n",
        "2023-08-18"
      ],
      "id": "9382110a-c5ac-478a-bd57-b7568c552534"
    },
    {
      "cell_type": "code",
      "execution_count": null,
      "metadata": {},
      "outputs": [],
      "source": [
        "print(\"Hello world\")"
      ],
      "id": "96d99b89-2aab-42f5-a50b-89e86893ef64"
    },
    {
      "cell_type": "markdown",
      "metadata": {},
      "source": [
        "here"
      ],
      "id": "f956a965-8314-4173-b24c-95395b850abd"
    }
  ],
  "nbformat": 4,
  "nbformat_minor": 5,
  "metadata": {
    "kernelspec": {
      "name": "git-pages",
      "display_name": "git-pages",
      "language": "python"
    },
    "language_info": {
      "name": "python",
      "codemirror_mode": {
        "name": "ipython",
        "version": "3"
      },
      "file_extension": ".py",
      "mimetype": "text/x-python",
      "nbconvert_exporter": "python",
      "pygments_lexer": "ipython3",
      "version": "3.10.11"
    }
  }
}
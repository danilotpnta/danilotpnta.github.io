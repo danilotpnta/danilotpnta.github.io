{
  "cells": [
    {
      "cell_type": "markdown",
      "metadata": {},
      "source": [
        "# Automating blog posts\n",
        "\n",
        "\\| [Danilo Toapanta]()  \n",
        "2023-08-18\n",
        "\n",
        "# Extension"
      ],
      "id": "1cbee7f4-5934-4d40-80bb-3e076ee1097b"
    }
  ],
  "nbformat": 4,
  "nbformat_minor": 5,
  "metadata": {
    "kernelspec": {
      "name": "python3",
      "display_name": "git-pages",
      "language": "python"
    },
    "language_info": {
      "name": "python",
      "codemirror_mode": {
        "name": "ipython",
        "version": "3"
      },
      "file_extension": ".py",
      "mimetype": "text/x-python",
      "nbconvert_exporter": "python",
      "pygments_lexer": "ipython3",
      "version": "3.10.11"
    }
  }
}
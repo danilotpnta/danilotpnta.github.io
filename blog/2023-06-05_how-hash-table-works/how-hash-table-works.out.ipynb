{
  "cells": [
    {
      "cell_type": "markdown",
      "metadata": {},
      "source": [
        "# How PCY Algorithm works\n",
        "\n",
        "\\| [Danilo Toapanta]()  \n",
        "2023-06-05\n",
        "\n",
        "In this post I will go over the implementation of: An Effective\n",
        "Hash-Based Algorithm for Mining Association Rules[1].\n",
        "\n",
        "<img src=\"https://slama.dev/assets/mining-massive-datasets/pcy.svg\"  width=\"400\" />\n",
        "\n",
        "## Initializing the transaction baskets\n",
        "\n",
        "[1] Paper available at:\n",
        "[DOI:10.1145/568271.223813](https://www.researchgate.net/publication/2267911_An_Effective_Hash-Based_Algorithm_for_Mining_Association_Rules)"
      ],
      "id": "774f29b2-361f-47bd-98be-b56c54d3da0e"
    },
    {
      "cell_type": "code",
      "execution_count": null,
      "metadata": {},
      "outputs": [],
      "source": [
        "import numpy as np\n",
        "import pandas as pd\n",
        "import itertools"
      ],
      "id": "1d35a51d-bf42-413a-b4a0-4b092b8ebeaa"
    },
    {
      "cell_type": "code",
      "execution_count": 23,
      "metadata": {
        "ExecuteTime": {
          "end_time": "2023-06-05T23:31:33.338123Z",
          "start_time": "2023-06-05T23:31:33.320727Z"
        }
      },
      "outputs": [
        {
          "output_type": "display_data",
          "metadata": {},
          "data": {
            "text/html": [
              "\n",
              "</div>"
            ]
          }
        }
      ],
      "source": [
        "# initialize lists\n",
        "data = [[1,2,5], [2,3,5], [4,5], [1,6,7], [2,3,5,7], [1,2,7]]\n",
        "pairs = [list(itertools.combinations(i, 2)) for i in data]\n",
        "mydict = {'Items':data, 'Pairs': pairs}\n",
        "\n",
        "# Create the pandas DataFrame with column name is provided explicitly\n",
        "df = pd.DataFrame(mydict)\n",
        "\n",
        "# Print dataframe\n",
        "display(df)"
      ],
      "id": "4d5d3c20-e03d-4cef-b8d6-9e39ee5be7ee"
    },
    {
      "cell_type": "markdown",
      "metadata": {},
      "source": [
        "## Calculating the supports"
      ],
      "id": "7e0ca0e4-6057-46ef-8af3-724a8f9fbdc8"
    },
    {
      "cell_type": "code",
      "execution_count": 24,
      "metadata": {
        "ExecuteTime": {
          "end_time": "2023-06-05T23:00:18.334695Z",
          "start_time": "2023-06-05T23:00:18.330044Z"
        }
      },
      "outputs": [
        {
          "output_type": "stream",
          "name": "stdout",
          "text": [
            "[[1, 2, 5], [2, 3, 5], [4, 5], [1, 6, 7], [2, 3, 5, 7], [1, 2, 7]]"
          ]
        }
      ],
      "source": [
        "print(data)"
      ],
      "id": "07f361c2-013e-439d-9a31-ec02b9c713aa"
    },
    {
      "cell_type": "code",
      "execution_count": 25,
      "metadata": {
        "ExecuteTime": {
          "end_time": "2023-06-05T23:00:18.343197Z",
          "start_time": "2023-06-05T23:00:18.338297Z"
        }
      },
      "outputs": [
        {
          "output_type": "stream",
          "name": "stdout",
          "text": [
            "{1: 0, 2: 0, 5: 0, 3: 0, 4: 0, 6: 0, 7: 0}"
          ]
        }
      ],
      "source": [
        "supports = {}\n",
        "for row in data:\n",
        "    for e in row:\n",
        "        if e not in supports:\n",
        "            supports[e] = 0\n",
        "\n",
        "# Sorting dictionary\n",
        "sorted_dict = supports.keys()\n",
        "suppports = sorted(sorted_dict)\n",
        "print(supports)"
      ],
      "id": "6d2e33df-9def-4fd8-9991-b87627e787a0"
    },
    {
      "cell_type": "code",
      "execution_count": 26,
      "metadata": {
        "ExecuteTime": {
          "end_time": "2023-06-05T23:00:18.441247Z",
          "start_time": "2023-06-05T23:00:18.348951Z"
        }
      },
      "outputs": [
        {
          "output_type": "stream",
          "name": "stdout",
          "text": [
            "{1: 3, 2: 4, 5: 4, 3: 2, 4: 1, 6: 1, 7: 3}"
          ]
        }
      ],
      "source": [
        "for row in data:\n",
        "    for e in row:\n",
        "        supports[e] += 1\n",
        "\n",
        "print(supports)"
      ],
      "id": "416d39f0-c3ab-4af7-b575-aa076e1432fd"
    },
    {
      "cell_type": "code",
      "execution_count": 27,
      "metadata": {
        "ExecuteTime": {
          "end_time": "2023-06-05T23:00:39.401511Z",
          "start_time": "2023-06-05T23:00:39.392276Z"
        }
      },
      "outputs": [
        {
          "output_type": "display_data",
          "metadata": {},
          "data": {
            "text/html": [
              "\n",
              "</div>"
            ]
          }
        }
      ],
      "source": [
        "item = [ key for key, value in supports.items()]\n",
        "supp = [ value for key, value in supports.items()]\n",
        "unique_items_count = {'Itemset': item, 'Sup': supp}\n",
        "\n",
        "df_item_sup = pd.DataFrame(unique_items_count)\n",
        "display(df_item_sup)"
      ],
      "id": "0af48b64-e3eb-43c4-aeee-c82d09938482"
    },
    {
      "cell_type": "markdown",
      "metadata": {},
      "source": [
        "### Pass 1"
      ],
      "id": "e55ada25-3c3a-4334-98aa-dc5d3eb0d01d"
    },
    {
      "cell_type": "code",
      "execution_count": 28,
      "metadata": {
        "ExecuteTime": {
          "end_time": "2023-06-05T23:00:18.442868Z",
          "start_time": "2023-06-05T23:00:18.367301Z"
        }
      },
      "outputs": [],
      "source": [
        "def hash_f_pair(i,j):\n",
        "    return (i*j) % 7"
      ],
      "id": "0826ce05-b323-4117-97f2-811095e2af95"
    },
    {
      "cell_type": "code",
      "execution_count": 29,
      "metadata": {
        "ExecuteTime": {
          "end_time": "2023-06-05T23:00:18.443268Z",
          "start_time": "2023-06-05T23:00:18.377244Z"
        }
      },
      "outputs": [
        {
          "output_type": "stream",
          "name": "stdout",
          "text": [
            "[(1, 2), (1, 5), (2, 5), (2, 3), (3, 5), (4, 5), (1, 6), (1, 7), (6, 7), (2, 7), (3, 7), (5, 7)]"
          ]
        }
      ],
      "source": [
        "unique_items = []\n",
        "for row in pairs:\n",
        "    for e in row:\n",
        "        if e not in unique_items:\n",
        "            unique_items.append(e)\n",
        "print(unique_items)\n"
      ],
      "id": "63e3102f-d8e4-48ad-8e8b-7caff53345c5"
    },
    {
      "cell_type": "code",
      "execution_count": 30,
      "metadata": {
        "ExecuteTime": {
          "end_time": "2023-06-05T23:00:18.452038Z",
          "start_time": "2023-06-05T23:00:18.382795Z"
        }
      },
      "outputs": [
        {
          "output_type": "display_data",
          "metadata": {},
          "data": {
            "text/plain": [
              "2"
            ]
          }
        }
      ],
      "source": [
        "unique_items[0][1]"
      ],
      "id": "2ca210ef-e5e6-48c0-950b-f24258d016b2"
    },
    {
      "cell_type": "code",
      "execution_count": 31,
      "metadata": {
        "ExecuteTime": {
          "end_time": "2023-06-05T23:00:18.462775Z",
          "start_time": "2023-06-05T23:00:18.392646Z"
        }
      },
      "outputs": [
        {
          "output_type": "stream",
          "name": "stdout",
          "text": [
            "[2, 5, 3, 6, 1, 6, 6, 0, 0, 0, 0, 0]"
          ]
        }
      ],
      "source": [
        "hash_value_pairs = []\n",
        "for e in unique_items:\n",
        "        hash_value_pairs.append(hash_f_pair(e[0],e[1]))\n",
        "print(hash_value_pairs)"
      ],
      "id": "57389e4b-c20e-4025-a19b-43d3ab4e9ffb"
    },
    {
      "cell_type": "code",
      "execution_count": 32,
      "metadata": {
        "ExecuteTime": {
          "end_time": "2023-06-05T23:00:18.463038Z",
          "start_time": "2023-06-05T23:00:18.399654Z"
        }
      },
      "outputs": [
        {
          "output_type": "stream",
          "name": "stdout",
          "text": [
            "{'(1, 2)': 0, '(1, 5)': 0, '(2, 5)': 0, '(2, 3)': 0, '(3, 5)': 0, '(4, 5)': 0, '(1, 6)': 0, '(1, 7)': 0, '(6, 7)': 0, '(2, 7)': 0, '(3, 7)': 0, '(5, 7)': 0}"
          ]
        }
      ],
      "source": [
        "my_dict2 = {}\n",
        "for pair in unique_items:\n",
        "    my_dict2[str(pair)] = 0\n",
        "print(my_dict2)"
      ],
      "id": "ed148631-4401-4690-a273-abb3e1aacafe"
    },
    {
      "cell_type": "code",
      "execution_count": 33,
      "metadata": {
        "ExecuteTime": {
          "end_time": "2023-06-05T23:00:18.463294Z",
          "start_time": "2023-06-05T23:00:18.403951Z"
        }
      },
      "outputs": [
        {
          "output_type": "stream",
          "name": "stdout",
          "text": [
            "{'(1, 2)': 2, '(1, 5)': 1, '(2, 5)': 3, '(2, 3)': 2, '(3, 5)': 2, '(4, 5)': 1, '(1, 6)': 1, '(1, 7)': 2, '(6, 7)': 1, '(2, 7)': 2, '(3, 7)': 1, '(5, 7)': 1}"
          ]
        }
      ],
      "source": [
        "for row in pairs:\n",
        "    for e in row:\n",
        "        my_dict2[str(e)] +=1\n",
        "\n",
        "print(my_dict2)"
      ],
      "id": "cc52a832-d0b1-4761-976a-df5eb8bf7cfb"
    },
    {
      "cell_type": "code",
      "execution_count": 34,
      "metadata": {
        "ExecuteTime": {
          "end_time": "2023-06-05T23:00:18.463543Z",
          "start_time": "2023-06-05T23:00:18.414693Z"
        }
      },
      "outputs": [
        {
          "output_type": "stream",
          "name": "stdout",
          "text": [
            "[2, 1, 3, 2, 2, 1, 1, 2, 1, 2, 1, 1]"
          ]
        }
      ],
      "source": [
        "counts = [ value for key, value in my_dict2.items()]\n",
        "print(counts)\n",
        "# df_counts = pd.DataFrame()"
      ],
      "id": "f23e70a7-2a66-4422-b71d-6a25650fa468"
    },
    {
      "cell_type": "code",
      "execution_count": 35,
      "metadata": {
        "ExecuteTime": {
          "end_time": "2023-06-05T23:48:57.571477Z",
          "start_time": "2023-06-05T23:48:57.563967Z"
        }
      },
      "outputs": [
        {
          "output_type": "stream",
          "name": "stdout",
          "text": [
            "{'Pairs': [(1, 2), (1, 5), (2, 5), (2, 3), (3, 5), (4, 5), (1, 6), (1, 7), (6, 7), (2, 7), (3, 7), (5, 7)], 'Count': [2, 1, 3, 2, 2, 1, 1, 2, 1, 2, 1, 1], 'Hash': [2, 5, 3, 6, 1, 6, 6, 0, 0, 0, 0, 0]}"
          ]
        }
      ],
      "source": [
        "unique_items_count = {'Pairs': unique_items, 'Count': counts, 'Hash': hash_value_pairs}\n",
        "print(unique_items_count)"
      ],
      "id": "97895df7-5c80-44d7-8bf1-db679e30bef8"
    },
    {
      "cell_type": "code",
      "execution_count": 36,
      "metadata": {
        "ExecuteTime": {
          "end_time": "2023-06-05T23:49:04.731871Z",
          "start_time": "2023-06-05T23:49:04.728449Z"
        }
      },
      "outputs": [
        {
          "output_type": "display_data",
          "metadata": {},
          "data": {
            "text/html": [
              "\n",
              "</div>"
            ]
          }
        }
      ],
      "source": [
        "df_counts = pd.DataFrame(unique_items_count)\n",
        "display(df_counts)"
      ],
      "id": "abdeeaa4-76fb-4cfa-8233-43c9fcc258e8"
    },
    {
      "cell_type": "markdown",
      "metadata": {},
      "source": [
        "Minium support count is 2 so we eliminate from the Pair list the items\n",
        "that have less than 2 from [Table 1](#tbl-support). The resulting table\n",
        "is called the Candidate Pairs."
      ],
      "id": "f3f685a0-cfe8-42dc-8828-32c860175203"
    },
    {
      "cell_type": "code",
      "execution_count": 37,
      "metadata": {
        "ExecuteTime": {
          "end_time": "2023-06-05T23:49:09.622209Z",
          "start_time": "2023-06-05T23:49:09.618379Z"
        }
      },
      "outputs": [
        {
          "output_type": "display_data",
          "metadata": {},
          "data": {
            "text/html": [
              "\n",
              "</div>"
            ]
          }
        }
      ],
      "source": [
        "df_counts_after = df_counts.drop([5, 6, 8])\n",
        "display(df_counts_after)"
      ],
      "id": "8efd7ac3-760e-48aa-a688-79bd225fdd13"
    },
    {
      "cell_type": "markdown",
      "metadata": {},
      "source": [
        "### Pass 2\n",
        "\n",
        "The final step is to build a table from [Table 2](#tbl-hash) that counts\n",
        "the number of ocurrences per hash value."
      ],
      "id": "a7701baf-66bf-4510-81be-cbebda5d0389"
    },
    {
      "cell_type": "code",
      "execution_count": 38,
      "metadata": {
        "ExecuteTime": {
          "end_time": "2023-06-06T00:10:43.085086Z",
          "start_time": "2023-06-06T00:10:43.076958Z"
        }
      },
      "outputs": [
        {
          "output_type": "stream",
          "name": "stdout",
          "text": [
            "{0: 7, 1: 2, 2: 2, 3: 3, 4: 0, 5: 1, 6: 4}"
          ]
        },
        {
          "output_type": "display_data",
          "metadata": {},
          "data": {
            "text/html": [
              "\n",
              "</div>"
            ]
          }
        }
      ],
      "source": [
        "hash_values = [x for x in range(max(hash_value_pairs)+1)]\n",
        "my_dict3 = {}\n",
        "for e in hash_values:\n",
        "    my_dict3[e] = 0\n",
        "\n",
        "for i, hash_value in enumerate(df_counts[\"Hash\"]):\n",
        "    my_dict3[hash_value] += df_counts[\"Count\"][i]\n",
        "print(my_dict3)\n",
        "\n",
        "data_bucket = {\"Bucket\": hash_values, \"Count\": my_dict3.values()}\n",
        "df_bucket_count = pd.DataFrame(data_bucket)\n",
        "display(df_bucket_count)\n"
      ],
      "id": "e4a81326-a7bb-4281-a70e-57c1aef16721"
    },
    {
      "cell_type": "markdown",
      "metadata": {},
      "source": [
        "With the result above we can look back to table\n",
        "[Table 3](#tbl-hash_after_pass1) and see which hash values, have a value\n",
        "lower than the minimum support count. That is hash value 4 and 5. With\n",
        "this result we look at table [Table 3](#tbl-hash_after_pass1) and delete\n",
        "those corresponding hash values. The final result is teh Final\n",
        "Candidates"
      ],
      "id": "55057605-b384-4e24-a048-973a4d189162"
    },
    {
      "cell_type": "code",
      "execution_count": 39,
      "metadata": {
        "ExecuteTime": {
          "end_time": "2023-06-06T00:13:45.465704Z",
          "start_time": "2023-06-06T00:13:45.459766Z"
        }
      },
      "outputs": [
        {
          "output_type": "display_data",
          "metadata": {},
          "data": {
            "text/html": [
              "\n",
              "</div>"
            ]
          }
        }
      ],
      "source": [
        "df_counts_after_pass2 = df_counts_after.drop([1])\n",
        "display(df_counts_after_pass2)"
      ],
      "id": "6778dd10-4289-41cc-ad16-c48eb5ce3d35"
    }
  ],
  "nbformat": 4,
  "nbformat_minor": 5,
  "metadata": {
    "kernelspec": {
      "name": "git-pages",
      "display_name": "git-pages",
      "language": "python"
    },
    "language_info": {
      "name": "python",
      "codemirror_mode": {
        "name": "ipython",
        "version": "3"
      },
      "file_extension": ".py",
      "mimetype": "text/x-python",
      "nbconvert_exporter": "python",
      "pygments_lexer": "ipython3",
      "version": "3.10.11"
    }
  }
}
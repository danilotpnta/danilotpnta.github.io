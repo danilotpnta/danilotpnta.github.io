{
  "cells": [
    {
      "cell_type": "markdown",
      "metadata": {},
      "source": [
        "# How PCY Algorithm works\n",
        "\n",
        "\\| [Danilo Toapanta]()  \n",
        "2023-06-05\n",
        "\n",
        "In this post I will go over the implementation of: An Effective\n",
        "Hash-Based Algorithm for Mining Association Rules[1].\n",
        "\n",
        "<img src=\"https://slama.dev/assets/mining-massive-datasets/pcy.svg\"  width=\"400\" />\n",
        "\n",
        "## Initializing the transaction baskets\n",
        "\n",
        "[1] Paper available at:\n",
        "[DOI:10.1145/568271.223813](https://www.researchgate.net/publication/2267911_An_Effective_Hash-Based_Algorithm_for_Mining_Association_Rules)"
      ],
      "id": "d555c403-ccb1-454c-98f4-b235b009bdfb"
    },
    {
      "cell_type": "code",
      "execution_count": null,
      "metadata": {},
      "outputs": [],
      "source": [
        "import numpy as np\n",
        "import pandas as pd\n",
        "import itertools"
      ],
      "id": "7022680f-0066-43d8-a6b2-ef1e7a0e53b9"
    },
    {
      "cell_type": "code",
      "execution_count": 23,
      "metadata": {
        "ExecuteTime": {
          "end_time": "2023-06-05T23:31:33.338123Z",
          "start_time": "2023-06-05T23:31:33.320727Z"
        }
      },
      "outputs": [
        {
          "output_type": "display_data",
          "metadata": {},
          "data": {
            "text/html": [
              "\n",
              "</div>"
            ]
          }
        }
      ],
      "source": [
        "# initialize lists\n",
        "data = [[1,2,5], [2,3,5], [4,5], [1,6,7], [2,3,5,7], [1,2,7]]\n",
        "pairs = [list(itertools.combinations(i, 2)) for i in data]\n",
        "mydict = {'Items':data, 'Pairs': pairs}\n",
        "\n",
        "# Create the pandas DataFrame with column name is provided explicitly\n",
        "df = pd.DataFrame(mydict)\n",
        "\n",
        "# Print dataframe\n",
        "display(df)"
      ],
      "id": "c98923ed-604c-41cd-89c4-fddd1de74516"
    },
    {
      "cell_type": "markdown",
      "metadata": {},
      "source": [
        "## Calculating the supports"
      ],
      "id": "609b9639-bf11-4b4a-a6be-35c5116b4e4d"
    },
    {
      "cell_type": "code",
      "execution_count": 24,
      "metadata": {
        "ExecuteTime": {
          "end_time": "2023-06-05T23:00:18.334695Z",
          "start_time": "2023-06-05T23:00:18.330044Z"
        }
      },
      "outputs": [
        {
          "output_type": "stream",
          "name": "stdout",
          "text": [
            "[[1, 2, 5], [2, 3, 5], [4, 5], [1, 6, 7], [2, 3, 5, 7], [1, 2, 7]]"
          ]
        }
      ],
      "source": [
        "print(data)"
      ],
      "id": "a58f9aaa-7a02-4b58-8d82-3a5cb6ee0899"
    },
    {
      "cell_type": "code",
      "execution_count": 25,
      "metadata": {
        "ExecuteTime": {
          "end_time": "2023-06-05T23:00:18.343197Z",
          "start_time": "2023-06-05T23:00:18.338297Z"
        }
      },
      "outputs": [
        {
          "output_type": "stream",
          "name": "stdout",
          "text": [
            "{1: 0, 2: 0, 5: 0, 3: 0, 4: 0, 6: 0, 7: 0}"
          ]
        }
      ],
      "source": [
        "supports = {}\n",
        "for row in data:\n",
        "    for e in row:\n",
        "        if e not in supports:\n",
        "            supports[e] = 0\n",
        "\n",
        "# Sorting dictionary\n",
        "sorted_dict = supports.keys()\n",
        "suppports = sorted(sorted_dict)\n",
        "print(supports)"
      ],
      "id": "dd1f6724-2516-4651-9fb6-f977175e29fb"
    },
    {
      "cell_type": "code",
      "execution_count": 26,
      "metadata": {
        "ExecuteTime": {
          "end_time": "2023-06-05T23:00:18.441247Z",
          "start_time": "2023-06-05T23:00:18.348951Z"
        }
      },
      "outputs": [
        {
          "output_type": "stream",
          "name": "stdout",
          "text": [
            "{1: 3, 2: 4, 5: 4, 3: 2, 4: 1, 6: 1, 7: 3}"
          ]
        }
      ],
      "source": [
        "for row in data:\n",
        "    for e in row:\n",
        "        supports[e] += 1\n",
        "\n",
        "print(supports)"
      ],
      "id": "ef1cef7f-1ac8-4f7e-b24b-e1c3b6598e10"
    },
    {
      "cell_type": "code",
      "execution_count": 27,
      "metadata": {
        "ExecuteTime": {
          "end_time": "2023-06-05T23:00:39.401511Z",
          "start_time": "2023-06-05T23:00:39.392276Z"
        }
      },
      "outputs": [
        {
          "output_type": "display_data",
          "metadata": {},
          "data": {
            "text/html": [
              "\n",
              "</div>"
            ]
          }
        }
      ],
      "source": [
        "item = [ key for key, value in supports.items()]\n",
        "supp = [ value for key, value in supports.items()]\n",
        "unique_items_count = {'Itemset': item, 'Sup': supp}\n",
        "\n",
        "df_item_sup = pd.DataFrame(unique_items_count)\n",
        "display(df_item_sup)"
      ],
      "id": "2a6272d1-a6c7-4514-ade3-2f012bead520"
    },
    {
      "cell_type": "markdown",
      "metadata": {},
      "source": [
        "### Pass 1"
      ],
      "id": "fc87e9e5-f93d-4565-9be9-7517a1b4ba3f"
    },
    {
      "cell_type": "code",
      "execution_count": 28,
      "metadata": {
        "ExecuteTime": {
          "end_time": "2023-06-05T23:00:18.442868Z",
          "start_time": "2023-06-05T23:00:18.367301Z"
        }
      },
      "outputs": [],
      "source": [
        "def hash_f_pair(i,j):\n",
        "    return (i*j) % 7"
      ],
      "id": "d9939058-9af8-42e0-99c1-eda97b1ca86f"
    },
    {
      "cell_type": "code",
      "execution_count": 29,
      "metadata": {
        "ExecuteTime": {
          "end_time": "2023-06-05T23:00:18.443268Z",
          "start_time": "2023-06-05T23:00:18.377244Z"
        }
      },
      "outputs": [
        {
          "output_type": "stream",
          "name": "stdout",
          "text": [
            "[(1, 2), (1, 5), (2, 5), (2, 3), (3, 5), (4, 5), (1, 6), (1, 7), (6, 7), (2, 7), (3, 7), (5, 7)]"
          ]
        }
      ],
      "source": [
        "unique_items = []\n",
        "for row in pairs:\n",
        "    for e in row:\n",
        "        if e not in unique_items:\n",
        "            unique_items.append(e)\n",
        "print(unique_items)\n"
      ],
      "id": "5be81473-59ba-4825-9bb8-87ca6ffcba80"
    },
    {
      "cell_type": "code",
      "execution_count": 30,
      "metadata": {
        "ExecuteTime": {
          "end_time": "2023-06-05T23:00:18.452038Z",
          "start_time": "2023-06-05T23:00:18.382795Z"
        }
      },
      "outputs": [
        {
          "output_type": "display_data",
          "metadata": {},
          "data": {
            "text/plain": [
              "2"
            ]
          }
        }
      ],
      "source": [
        "unique_items[0][1]"
      ],
      "id": "265b2178-18d0-4c47-af41-ffa06ad71c31"
    },
    {
      "cell_type": "code",
      "execution_count": 31,
      "metadata": {
        "ExecuteTime": {
          "end_time": "2023-06-05T23:00:18.462775Z",
          "start_time": "2023-06-05T23:00:18.392646Z"
        }
      },
      "outputs": [
        {
          "output_type": "stream",
          "name": "stdout",
          "text": [
            "[2, 5, 3, 6, 1, 6, 6, 0, 0, 0, 0, 0]"
          ]
        }
      ],
      "source": [
        "hash_value_pairs = []\n",
        "for e in unique_items:\n",
        "        hash_value_pairs.append(hash_f_pair(e[0],e[1]))\n",
        "print(hash_value_pairs)"
      ],
      "id": "e774f5be-e3e1-4149-b8d7-16b92776219b"
    },
    {
      "cell_type": "code",
      "execution_count": 32,
      "metadata": {
        "ExecuteTime": {
          "end_time": "2023-06-05T23:00:18.463038Z",
          "start_time": "2023-06-05T23:00:18.399654Z"
        }
      },
      "outputs": [
        {
          "output_type": "stream",
          "name": "stdout",
          "text": [
            "{'(1, 2)': 0, '(1, 5)': 0, '(2, 5)': 0, '(2, 3)': 0, '(3, 5)': 0, '(4, 5)': 0, '(1, 6)': 0, '(1, 7)': 0, '(6, 7)': 0, '(2, 7)': 0, '(3, 7)': 0, '(5, 7)': 0}"
          ]
        }
      ],
      "source": [
        "my_dict2 = {}\n",
        "for pair in unique_items:\n",
        "    my_dict2[str(pair)] = 0\n",
        "print(my_dict2)"
      ],
      "id": "5543b75e-e7ab-4164-b81d-2ef88022fbea"
    },
    {
      "cell_type": "code",
      "execution_count": 33,
      "metadata": {
        "ExecuteTime": {
          "end_time": "2023-06-05T23:00:18.463294Z",
          "start_time": "2023-06-05T23:00:18.403951Z"
        }
      },
      "outputs": [
        {
          "output_type": "stream",
          "name": "stdout",
          "text": [
            "{'(1, 2)': 2, '(1, 5)': 1, '(2, 5)': 3, '(2, 3)': 2, '(3, 5)': 2, '(4, 5)': 1, '(1, 6)': 1, '(1, 7)': 2, '(6, 7)': 1, '(2, 7)': 2, '(3, 7)': 1, '(5, 7)': 1}"
          ]
        }
      ],
      "source": [
        "for row in pairs:\n",
        "    for e in row:\n",
        "        my_dict2[str(e)] +=1\n",
        "\n",
        "print(my_dict2)"
      ],
      "id": "90b53ded-df8b-4d86-a2ee-a81505b79ec1"
    },
    {
      "cell_type": "code",
      "execution_count": 34,
      "metadata": {
        "ExecuteTime": {
          "end_time": "2023-06-05T23:00:18.463543Z",
          "start_time": "2023-06-05T23:00:18.414693Z"
        }
      },
      "outputs": [
        {
          "output_type": "stream",
          "name": "stdout",
          "text": [
            "[2, 1, 3, 2, 2, 1, 1, 2, 1, 2, 1, 1]"
          ]
        }
      ],
      "source": [
        "counts = [ value for key, value in my_dict2.items()]\n",
        "print(counts)\n",
        "# df_counts = pd.DataFrame()"
      ],
      "id": "b8f096a0-0ae0-473e-b980-a33aac3cb7fd"
    },
    {
      "cell_type": "code",
      "execution_count": 35,
      "metadata": {
        "ExecuteTime": {
          "end_time": "2023-06-05T23:48:57.571477Z",
          "start_time": "2023-06-05T23:48:57.563967Z"
        }
      },
      "outputs": [
        {
          "output_type": "stream",
          "name": "stdout",
          "text": [
            "{'Pairs': [(1, 2), (1, 5), (2, 5), (2, 3), (3, 5), (4, 5), (1, 6), (1, 7), (6, 7), (2, 7), (3, 7), (5, 7)], 'Count': [2, 1, 3, 2, 2, 1, 1, 2, 1, 2, 1, 1], 'Hash': [2, 5, 3, 6, 1, 6, 6, 0, 0, 0, 0, 0]}"
          ]
        }
      ],
      "source": [
        "unique_items_count = {'Pairs': unique_items, 'Count': counts, 'Hash': hash_value_pairs}\n",
        "print(unique_items_count)"
      ],
      "id": "23c897e7-7c90-4b9c-be54-adf96ffd6c7f"
    },
    {
      "cell_type": "code",
      "execution_count": 36,
      "metadata": {
        "ExecuteTime": {
          "end_time": "2023-06-05T23:49:04.731871Z",
          "start_time": "2023-06-05T23:49:04.728449Z"
        }
      },
      "outputs": [
        {
          "output_type": "display_data",
          "metadata": {},
          "data": {
            "text/html": [
              "\n",
              "</div>"
            ]
          }
        }
      ],
      "source": [
        "df_counts = pd.DataFrame(unique_items_count)\n",
        "display(df_counts)"
      ],
      "id": "f073c40f-3be6-4e1a-a3bb-3000e1157b67"
    },
    {
      "cell_type": "markdown",
      "metadata": {},
      "source": [
        "Minium support count is 2 so we eliminate from the Pair list the items\n",
        "that have less than 2 from [Table 1](#tbl-support). The resulting table\n",
        "is called the Candidate Pairs."
      ],
      "id": "473a5324-abc0-4131-8729-74cfe219bcad"
    },
    {
      "cell_type": "code",
      "execution_count": 37,
      "metadata": {
        "ExecuteTime": {
          "end_time": "2023-06-05T23:49:09.622209Z",
          "start_time": "2023-06-05T23:49:09.618379Z"
        }
      },
      "outputs": [
        {
          "output_type": "display_data",
          "metadata": {},
          "data": {
            "text/html": [
              "\n",
              "</div>"
            ]
          }
        }
      ],
      "source": [
        "df_counts_after = df_counts.drop([5, 6, 8])\n",
        "display(df_counts_after)"
      ],
      "id": "f388fd69-e520-4aca-accf-c68d548ff99e"
    },
    {
      "cell_type": "markdown",
      "metadata": {},
      "source": [
        "### Pass 2\n",
        "\n",
        "The final step is to build a table from [Table 2](#tbl-hash) that counts\n",
        "the number of ocurrences per hash value."
      ],
      "id": "0f0524e3-4983-419f-898c-e6c464def289"
    },
    {
      "cell_type": "code",
      "execution_count": 38,
      "metadata": {
        "ExecuteTime": {
          "end_time": "2023-06-06T00:10:43.085086Z",
          "start_time": "2023-06-06T00:10:43.076958Z"
        }
      },
      "outputs": [
        {
          "output_type": "stream",
          "name": "stdout",
          "text": [
            "{0: 7, 1: 2, 2: 2, 3: 3, 4: 0, 5: 1, 6: 4}"
          ]
        },
        {
          "output_type": "display_data",
          "metadata": {},
          "data": {
            "text/html": [
              "\n",
              "</div>"
            ]
          }
        }
      ],
      "source": [
        "hash_values = [x for x in range(max(hash_value_pairs)+1)]\n",
        "my_dict3 = {}\n",
        "for e in hash_values:\n",
        "    my_dict3[e] = 0\n",
        "\n",
        "for i, hash_value in enumerate(df_counts[\"Hash\"]):\n",
        "    my_dict3[hash_value] += df_counts[\"Count\"][i]\n",
        "print(my_dict3)\n",
        "\n",
        "data_bucket = {\"Bucket\": hash_values, \"Count\": my_dict3.values()}\n",
        "df_bucket_count = pd.DataFrame(data_bucket)\n",
        "display(df_bucket_count)\n"
      ],
      "id": "21767336-c039-435d-b47a-a136a14acf9f"
    },
    {
      "cell_type": "markdown",
      "metadata": {},
      "source": [
        "With the result above we can look back to table\n",
        "[Table 3](#tbl-hash_after_pass1) and see which hash values, have a value\n",
        "lower than the minimum support count. That is hash value 4 and 5. With\n",
        "this result we look at table [Table 3](#tbl-hash_after_pass1) and delete\n",
        "those corresponding hash values. The final result is teh Final\n",
        "Candidates"
      ],
      "id": "b09a2874-88f8-4800-9cc1-85049f7709a6"
    },
    {
      "cell_type": "code",
      "execution_count": 39,
      "metadata": {
        "ExecuteTime": {
          "end_time": "2023-06-06T00:13:45.465704Z",
          "start_time": "2023-06-06T00:13:45.459766Z"
        }
      },
      "outputs": [
        {
          "output_type": "display_data",
          "metadata": {},
          "data": {
            "text/html": [
              "\n",
              "</div>"
            ]
          }
        }
      ],
      "source": [
        "df_counts_after_pass2 = df_counts_after.drop([1])\n",
        "display(df_counts_after_pass2)"
      ],
      "id": "37132da3-2c44-4ff0-a629-ac0a8bea82c9"
    }
  ],
  "nbformat": 4,
  "nbformat_minor": 5,
  "metadata": {
    "kernelspec": {
      "name": "git-pages",
      "display_name": "git-pages",
      "language": "python"
    },
    "language_info": {
      "name": "python",
      "codemirror_mode": {
        "name": "ipython",
        "version": "3"
      },
      "file_extension": ".py",
      "mimetype": "text/x-python",
      "nbconvert_exporter": "python",
      "pygments_lexer": "ipython3",
      "version": "3.10.11"
    }
  }
}
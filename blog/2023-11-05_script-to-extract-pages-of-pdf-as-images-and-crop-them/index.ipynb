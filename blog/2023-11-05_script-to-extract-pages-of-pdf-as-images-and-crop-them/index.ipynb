{
 "cells": [
  {
   "cell_type": "raw",
   "metadata": {
    "collapsed": false
   },
   "source": [
    "---\n",
    "title: \"Script to extract pages of PDF as images & apply crop\"\n",
    "description: \"Description of this Notebook\"\n",
    "date: \"2023-11-05\"\n",
    "categories: [All, TAGS, Python]\n",
    "links:\n",
    "    - icon: download\n",
    "      name: Code\n",
    "      file-name: script-to-extract-pages-of-pdf-as-images-and-crop-them.out.ipynb\n",
    "      href: index.out.ipynb\n",
    "format:\n",
    "    html:\n",
    "        code-fold: false\n",
    "        footnotes-hover: true\n",
    "        toc: false\n",
    "    ipynb: default \n",
    "jupyter: git-pages\n",
    "---"
   ]
  },
  {
   "cell_type": "markdown",
   "metadata": {},
   "source": [
    "## Goal\n",
    "Imagine you want to extract pages from a PDF as images and then you want to crop them to an specific size. The following scrip does exactly that "
   ]
  },
  {
   "cell_type": "markdown",
   "metadata": {},
   "source": [
    "```yaml\n",
    "pip install Pillow\n",
    "pip install pdf2image\n",
    "brew install poppler\n",
    "```"
   ]
  },
  {
   "cell_type": "code",
   "execution_count": 6,
   "metadata": {},
   "outputs": [],
   "source": [
    "from pdf2image import convert_from_path\n",
    "from PIL import Image\n",
    "import os\n",
    "\n",
    "# Function to crop an image to specific dimensions\n",
    "def crop_image(input_path, output_path, left, top, right, bottom):\n",
    "    image = Image.open(input_path)\n",
    "    cropped_image = image.crop((left, top, right, bottom))\n",
    "    cropped_image.save(output_path)\n",
    "\n",
    "# Function to extract all pages from a PDF and crop them as images\n",
    "def extract_and_crop_pdf(pdf_path, output_dir, width, crop_up, crop_down):\n",
    "    if not os.path.exists(output_dir):\n",
    "        os.makedirs(output_dir)\n",
    "\n",
    "    images = convert_from_path(pdf_path)\n",
    "\n",
    "    for page_number, pdf_image in enumerate(images):\n",
    "        output_path = os.path.join(output_dir, f'page_{page_number + 1}.png')\n",
    "\n",
    "        # Calculate the crop coordinates\n",
    "        left = (pdf_image.width - width) // 2\n",
    "        top = crop_up\n",
    "        right = left + width\n",
    "        bottom = pdf_image.height - crop_down\n",
    "\n",
    "        # Save the image as a temporary file\n",
    "        temp_image_path = os.path.join(output_dir, f'temp_page_{page_number + 1}.png')\n",
    "        pdf_image.save(temp_image_path)\n",
    "\n",
    "        # Crop the temporary image and save the final cropped image\n",
    "        crop_image(temp_image_path, output_path, left, top, right, bottom)\n",
    "\n",
    "        # Clean up the temporary image\n",
    "        os.remove(temp_image_path)\n",
    "\n",
    "if __name__ == '__main__':\n",
    "    input_pdf = 'input.pdf'  # Specify the input PDF file\n",
    "    output_directory = 'output_images'  # Specify the output folder\n",
    "    crop_up = 177  # Change this to your desired crop for height up\n",
    "    crop_down = 118  # Change this to your desired crop for height down\n",
    "    target_width = 2667  # Change this to your desired width\n",
    "\n",
    "    extract_and_crop_pdf(input_pdf, output_directory, target_width, crop_up, crop_down)\n"
   ]
  },
  {
   "cell_type": "code",
   "execution_count": null,
   "metadata": {},
   "outputs": [],
   "source": []
  }
 ],
 "metadata": {
  "kernelspec": {
   "display_name": "git-pages",
   "language": "python",
   "name": "python3"
  },
  "language_info": {
   "codemirror_mode": {
    "name": "ipython",
    "version": 3
   },
   "file_extension": ".py",
   "mimetype": "text/x-python",
   "name": "python",
   "nbconvert_exporter": "python",
   "pygments_lexer": "ipython3",
   "version": "3.10.11"
  }
 },
 "nbformat": 4,
 "nbformat_minor": 0
}

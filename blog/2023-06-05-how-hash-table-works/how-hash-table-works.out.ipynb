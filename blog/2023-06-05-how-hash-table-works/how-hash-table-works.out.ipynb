{
  "cells": [
    {
      "cell_type": "markdown",
      "metadata": {},
      "source": [
        "# How PCY Algorithm works\n",
        "\n",
        "\\| [Danilo Toapanta]()  \n",
        "2023-06-05\n",
        "\n",
        "In this post I will go over the implementation of: An Effective\n",
        "Hash-Based Algorithm for Mining Association Rules[1].\n",
        "\n",
        "<img src=\"https://slama.dev/assets/mining-massive-datasets/pcy.svg\"  width=\"400\" />\n",
        "\n",
        "## Initializing the transaction baskets\n",
        "\n",
        "[1] Paper available at:\n",
        "[DOI:10.1145/568271.223813](https://www.researchgate.net/publication/2267911_An_Effective_Hash-Based_Algorithm_for_Mining_Association_Rules)"
      ],
      "id": "866f14d2-07f0-4d0a-be10-32de3b9818d8"
    },
    {
      "cell_type": "code",
      "execution_count": null,
      "metadata": {},
      "outputs": [],
      "source": [
        "import numpy as np\n",
        "import pandas as pd\n",
        "import itertools"
      ],
      "id": "9eea6057-50de-47b0-aac0-0db6982cb660"
    },
    {
      "cell_type": "code",
      "execution_count": 23,
      "metadata": {
        "ExecuteTime": {
          "end_time": "2023-06-05T23:31:33.338123Z",
          "start_time": "2023-06-05T23:31:33.320727Z"
        }
      },
      "outputs": [
        {
          "output_type": "display_data",
          "metadata": {},
          "data": {
            "text/html": [
              "\n",
              "</div>"
            ]
          }
        }
      ],
      "source": [
        "# initialize lists\n",
        "data = [[1,2,5], [2,3,5], [4,5], [1,6,7], [2,3,5,7], [1,2,7]]\n",
        "pairs = [list(itertools.combinations(i, 2)) for i in data]\n",
        "mydict = {'Items':data, 'Pairs': pairs}\n",
        "\n",
        "# Create the pandas DataFrame with column name is provided explicitly\n",
        "df = pd.DataFrame(mydict)\n",
        "\n",
        "# Print dataframe\n",
        "display(df)"
      ],
      "id": "8d2998a9-0423-4294-8349-0da9a9c3073e"
    },
    {
      "cell_type": "markdown",
      "metadata": {},
      "source": [
        "## Calculating the supports"
      ],
      "id": "187c053e-c563-477d-84ee-fa3f05707a36"
    },
    {
      "cell_type": "code",
      "execution_count": 24,
      "metadata": {
        "ExecuteTime": {
          "end_time": "2023-06-05T23:00:18.334695Z",
          "start_time": "2023-06-05T23:00:18.330044Z"
        }
      },
      "outputs": [
        {
          "output_type": "stream",
          "name": "stdout",
          "text": [
            "[[1, 2, 5], [2, 3, 5], [4, 5], [1, 6, 7], [2, 3, 5, 7], [1, 2, 7]]"
          ]
        }
      ],
      "source": [
        "print(data)"
      ],
      "id": "e9969690-a817-4822-a9c1-36ae44cf026b"
    },
    {
      "cell_type": "code",
      "execution_count": 25,
      "metadata": {
        "ExecuteTime": {
          "end_time": "2023-06-05T23:00:18.343197Z",
          "start_time": "2023-06-05T23:00:18.338297Z"
        }
      },
      "outputs": [
        {
          "output_type": "stream",
          "name": "stdout",
          "text": [
            "{1: 0, 2: 0, 5: 0, 3: 0, 4: 0, 6: 0, 7: 0}"
          ]
        }
      ],
      "source": [
        "supports = {}\n",
        "for row in data:\n",
        "    for e in row:\n",
        "        if e not in supports:\n",
        "            supports[e] = 0\n",
        "\n",
        "# Sorting dictionary\n",
        "sorted_dict = supports.keys()\n",
        "suppports = sorted(sorted_dict)\n",
        "print(supports)"
      ],
      "id": "a8b15706-73a1-40be-8dab-35cc5cb1e78b"
    },
    {
      "cell_type": "code",
      "execution_count": 26,
      "metadata": {
        "ExecuteTime": {
          "end_time": "2023-06-05T23:00:18.441247Z",
          "start_time": "2023-06-05T23:00:18.348951Z"
        }
      },
      "outputs": [
        {
          "output_type": "stream",
          "name": "stdout",
          "text": [
            "{1: 3, 2: 4, 5: 4, 3: 2, 4: 1, 6: 1, 7: 3}"
          ]
        }
      ],
      "source": [
        "for row in data:\n",
        "    for e in row:\n",
        "        supports[e] += 1\n",
        "\n",
        "print(supports)"
      ],
      "id": "a7b7dfe6-bd50-4c73-9843-ed6fb8bd06e8"
    },
    {
      "cell_type": "code",
      "execution_count": 27,
      "metadata": {
        "ExecuteTime": {
          "end_time": "2023-06-05T23:00:39.401511Z",
          "start_time": "2023-06-05T23:00:39.392276Z"
        }
      },
      "outputs": [
        {
          "output_type": "display_data",
          "metadata": {},
          "data": {
            "text/html": [
              "\n",
              "</div>"
            ]
          }
        }
      ],
      "source": [
        "item = [ key for key, value in supports.items()]\n",
        "supp = [ value for key, value in supports.items()]\n",
        "unique_items_count = {'Itemset': item, 'Sup': supp}\n",
        "\n",
        "df_item_sup = pd.DataFrame(unique_items_count)\n",
        "display(df_item_sup)"
      ],
      "id": "8697f28b-f1bc-4fa7-93ce-9fe95989c733"
    },
    {
      "cell_type": "markdown",
      "metadata": {},
      "source": [
        "### Pass 1"
      ],
      "id": "b2da7cfe-8ede-46dc-828f-5fd32213ebfb"
    },
    {
      "cell_type": "code",
      "execution_count": 28,
      "metadata": {
        "ExecuteTime": {
          "end_time": "2023-06-05T23:00:18.442868Z",
          "start_time": "2023-06-05T23:00:18.367301Z"
        }
      },
      "outputs": [],
      "source": [
        "def hash_f_pair(i,j):\n",
        "    return (i*j) % 7"
      ],
      "id": "1cc5f7d9-70ea-4185-97c5-cdc9a348201d"
    },
    {
      "cell_type": "code",
      "execution_count": 29,
      "metadata": {
        "ExecuteTime": {
          "end_time": "2023-06-05T23:00:18.443268Z",
          "start_time": "2023-06-05T23:00:18.377244Z"
        }
      },
      "outputs": [
        {
          "output_type": "stream",
          "name": "stdout",
          "text": [
            "[(1, 2), (1, 5), (2, 5), (2, 3), (3, 5), (4, 5), (1, 6), (1, 7), (6, 7), (2, 7), (3, 7), (5, 7)]"
          ]
        }
      ],
      "source": [
        "unique_items = []\n",
        "for row in pairs:\n",
        "    for e in row:\n",
        "        if e not in unique_items:\n",
        "            unique_items.append(e)\n",
        "print(unique_items)\n"
      ],
      "id": "ae0b3cf7-652b-449e-95a1-d4ec9342725a"
    },
    {
      "cell_type": "code",
      "execution_count": 30,
      "metadata": {
        "ExecuteTime": {
          "end_time": "2023-06-05T23:00:18.452038Z",
          "start_time": "2023-06-05T23:00:18.382795Z"
        }
      },
      "outputs": [
        {
          "output_type": "display_data",
          "metadata": {},
          "data": {
            "text/plain": [
              "2"
            ]
          }
        }
      ],
      "source": [
        "unique_items[0][1]"
      ],
      "id": "60a5ca21-6c2e-4a69-9cfd-267b0ac0d234"
    },
    {
      "cell_type": "code",
      "execution_count": 31,
      "metadata": {
        "ExecuteTime": {
          "end_time": "2023-06-05T23:00:18.462775Z",
          "start_time": "2023-06-05T23:00:18.392646Z"
        }
      },
      "outputs": [
        {
          "output_type": "stream",
          "name": "stdout",
          "text": [
            "[2, 5, 3, 6, 1, 6, 6, 0, 0, 0, 0, 0]"
          ]
        }
      ],
      "source": [
        "hash_value_pairs = []\n",
        "for e in unique_items:\n",
        "        hash_value_pairs.append(hash_f_pair(e[0],e[1]))\n",
        "print(hash_value_pairs)"
      ],
      "id": "54e9e961-beb5-4e66-bbed-da3d7ae45331"
    },
    {
      "cell_type": "code",
      "execution_count": 32,
      "metadata": {
        "ExecuteTime": {
          "end_time": "2023-06-05T23:00:18.463038Z",
          "start_time": "2023-06-05T23:00:18.399654Z"
        }
      },
      "outputs": [
        {
          "output_type": "stream",
          "name": "stdout",
          "text": [
            "{'(1, 2)': 0, '(1, 5)': 0, '(2, 5)': 0, '(2, 3)': 0, '(3, 5)': 0, '(4, 5)': 0, '(1, 6)': 0, '(1, 7)': 0, '(6, 7)': 0, '(2, 7)': 0, '(3, 7)': 0, '(5, 7)': 0}"
          ]
        }
      ],
      "source": [
        "my_dict2 = {}\n",
        "for pair in unique_items:\n",
        "    my_dict2[str(pair)] = 0\n",
        "print(my_dict2)"
      ],
      "id": "6a2f5577-559d-48a5-9a1b-133db816ce62"
    },
    {
      "cell_type": "code",
      "execution_count": 33,
      "metadata": {
        "ExecuteTime": {
          "end_time": "2023-06-05T23:00:18.463294Z",
          "start_time": "2023-06-05T23:00:18.403951Z"
        }
      },
      "outputs": [
        {
          "output_type": "stream",
          "name": "stdout",
          "text": [
            "{'(1, 2)': 2, '(1, 5)': 1, '(2, 5)': 3, '(2, 3)': 2, '(3, 5)': 2, '(4, 5)': 1, '(1, 6)': 1, '(1, 7)': 2, '(6, 7)': 1, '(2, 7)': 2, '(3, 7)': 1, '(5, 7)': 1}"
          ]
        }
      ],
      "source": [
        "for row in pairs:\n",
        "    for e in row:\n",
        "        my_dict2[str(e)] +=1\n",
        "\n",
        "print(my_dict2)"
      ],
      "id": "06c10eb7-d5c0-4c58-80fa-240439a17f3a"
    },
    {
      "cell_type": "code",
      "execution_count": 34,
      "metadata": {
        "ExecuteTime": {
          "end_time": "2023-06-05T23:00:18.463543Z",
          "start_time": "2023-06-05T23:00:18.414693Z"
        }
      },
      "outputs": [
        {
          "output_type": "stream",
          "name": "stdout",
          "text": [
            "[2, 1, 3, 2, 2, 1, 1, 2, 1, 2, 1, 1]"
          ]
        }
      ],
      "source": [
        "counts = [ value for key, value in my_dict2.items()]\n",
        "print(counts)\n",
        "# df_counts = pd.DataFrame()"
      ],
      "id": "8a77a22d-47cf-4804-82de-8d19075ff606"
    },
    {
      "cell_type": "code",
      "execution_count": 35,
      "metadata": {
        "ExecuteTime": {
          "end_time": "2023-06-05T23:48:57.571477Z",
          "start_time": "2023-06-05T23:48:57.563967Z"
        }
      },
      "outputs": [
        {
          "output_type": "stream",
          "name": "stdout",
          "text": [
            "{'Pairs': [(1, 2), (1, 5), (2, 5), (2, 3), (3, 5), (4, 5), (1, 6), (1, 7), (6, 7), (2, 7), (3, 7), (5, 7)], 'Count': [2, 1, 3, 2, 2, 1, 1, 2, 1, 2, 1, 1], 'Hash': [2, 5, 3, 6, 1, 6, 6, 0, 0, 0, 0, 0]}"
          ]
        }
      ],
      "source": [
        "unique_items_count = {'Pairs': unique_items, 'Count': counts, 'Hash': hash_value_pairs}\n",
        "print(unique_items_count)"
      ],
      "id": "ab789482-09c7-4a3d-8f85-339675f5e236"
    },
    {
      "cell_type": "code",
      "execution_count": 36,
      "metadata": {
        "ExecuteTime": {
          "end_time": "2023-06-05T23:49:04.731871Z",
          "start_time": "2023-06-05T23:49:04.728449Z"
        }
      },
      "outputs": [
        {
          "output_type": "display_data",
          "metadata": {},
          "data": {
            "text/html": [
              "\n",
              "</div>"
            ]
          }
        }
      ],
      "source": [
        "df_counts = pd.DataFrame(unique_items_count)\n",
        "display(df_counts)"
      ],
      "id": "341d37c2-d5ab-4232-9e01-3104ee75ac4c"
    },
    {
      "cell_type": "markdown",
      "metadata": {},
      "source": [
        "Minium support count is 2 so we eliminate from the Pair list the items\n",
        "that have less than 2 from [Table 1](#tbl-support). The resulting table\n",
        "is called the Candidate Pairs."
      ],
      "id": "246ea1e2-2f49-4b63-834f-81265224a982"
    },
    {
      "cell_type": "code",
      "execution_count": 37,
      "metadata": {
        "ExecuteTime": {
          "end_time": "2023-06-05T23:49:09.622209Z",
          "start_time": "2023-06-05T23:49:09.618379Z"
        }
      },
      "outputs": [
        {
          "output_type": "display_data",
          "metadata": {},
          "data": {
            "text/html": [
              "\n",
              "</div>"
            ]
          }
        }
      ],
      "source": [
        "df_counts_after = df_counts.drop([5, 6, 8])\n",
        "display(df_counts_after)"
      ],
      "id": "0441c291-1380-4488-893c-a57897964915"
    },
    {
      "cell_type": "markdown",
      "metadata": {},
      "source": [
        "### Pass 2\n",
        "\n",
        "The final step is to build a table from [Table 2](#tbl-hash) that counts\n",
        "the number of ocurrences per hash value."
      ],
      "id": "e5da9294-7d09-49c9-a453-0092376f84b3"
    },
    {
      "cell_type": "code",
      "execution_count": 38,
      "metadata": {
        "ExecuteTime": {
          "end_time": "2023-06-06T00:10:43.085086Z",
          "start_time": "2023-06-06T00:10:43.076958Z"
        }
      },
      "outputs": [
        {
          "output_type": "stream",
          "name": "stdout",
          "text": [
            "{0: 7, 1: 2, 2: 2, 3: 3, 4: 0, 5: 1, 6: 4}"
          ]
        },
        {
          "output_type": "display_data",
          "metadata": {},
          "data": {
            "text/html": [
              "\n",
              "</div>"
            ]
          }
        }
      ],
      "source": [
        "hash_values = [x for x in range(max(hash_value_pairs)+1)]\n",
        "my_dict3 = {}\n",
        "for e in hash_values:\n",
        "    my_dict3[e] = 0\n",
        "\n",
        "for i, hash_value in enumerate(df_counts[\"Hash\"]):\n",
        "    my_dict3[hash_value] += df_counts[\"Count\"][i]\n",
        "print(my_dict3)\n",
        "\n",
        "data_bucket = {\"Bucket\": hash_values, \"Count\": my_dict3.values()}\n",
        "df_bucket_count = pd.DataFrame(data_bucket)\n",
        "display(df_bucket_count)\n"
      ],
      "id": "3fed60f1-ca81-4c57-a2b7-a1745052659b"
    },
    {
      "cell_type": "markdown",
      "metadata": {},
      "source": [
        "With the result above we can look back to table\n",
        "[Table 3](#tbl-hash_after_pass1) and see which hash values, have a value\n",
        "lower than the minimum support count. That is hash value 4 and 5. With\n",
        "this result we look at table [Table 3](#tbl-hash_after_pass1) and delete\n",
        "those corresponding hash values. The final result is teh Final\n",
        "Candidates"
      ],
      "id": "40b8397f-ddd7-4220-ac22-bc830a1b8433"
    },
    {
      "cell_type": "code",
      "execution_count": 39,
      "metadata": {
        "ExecuteTime": {
          "end_time": "2023-06-06T00:13:45.465704Z",
          "start_time": "2023-06-06T00:13:45.459766Z"
        }
      },
      "outputs": [
        {
          "output_type": "display_data",
          "metadata": {},
          "data": {
            "text/html": [
              "\n",
              "</div>"
            ]
          }
        }
      ],
      "source": [
        "df_counts_after_pass2 = df_counts_after.drop([1])\n",
        "display(df_counts_after_pass2)"
      ],
      "id": "488db27e-60db-4815-af9f-04b1430c7bda"
    }
  ],
  "nbformat": 4,
  "nbformat_minor": 5,
  "metadata": {
    "kernelspec": {
      "name": "git-pages",
      "display_name": "git-pages",
      "language": "python"
    },
    "language_info": {
      "name": "python",
      "codemirror_mode": {
        "name": "ipython",
        "version": "3"
      },
      "file_extension": ".py",
      "mimetype": "text/x-python",
      "nbconvert_exporter": "python",
      "pygments_lexer": "ipython3",
      "version": "3.10.11"
    }
  }
}
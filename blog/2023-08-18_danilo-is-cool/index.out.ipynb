{
  "cells": [
    {
      "cell_type": "markdown",
      "metadata": {},
      "source": [
        "# Danilo is cool\n",
        "\n",
        "\\| [Danilo Toapanta]()  \n",
        "2023-08-18"
      ],
      "id": "17f7498d-41dd-4484-8c02-f52b0739123a"
    },
    {
      "cell_type": "code",
      "execution_count": null,
      "metadata": {},
      "outputs": [],
      "source": [
        "print(\"Hello world\")"
      ],
      "id": "1e049b63-ac19-4996-bfe4-49dd47ef8857"
    }
  ],
  "nbformat": 4,
  "nbformat_minor": 5,
  "metadata": {
    "kernelspec": {
      "name": "git-pages",
      "display_name": "git-pages",
      "language": "python"
    },
    "language_info": {
      "name": "python",
      "codemirror_mode": {
        "name": "ipython",
        "version": "3"
      },
      "file_extension": ".py",
      "mimetype": "text/x-python",
      "nbconvert_exporter": "python",
      "pygments_lexer": "ipython3",
      "version": "3.10.11"
    }
  }
}
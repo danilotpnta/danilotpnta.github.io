{
  "cells": [
    {
      "cell_type": "markdown",
      "metadata": {},
      "source": [
        "# Notebook\n",
        "\n",
        "\\| [Danilo Toapanta]()  \n",
        "2023-11-07"
      ],
      "id": "84758dc8-27cb-44e4-a0e2-c0ac44cfdf6f"
    },
    {
      "cell_type": "code",
      "execution_count": 3,
      "metadata": {},
      "outputs": [
        {
          "output_type": "stream",
          "name": "stdout",
          "text": [
            "(2, 1, 3)"
          ]
        }
      ],
      "source": [
        "import numpy as np\n",
        "w1 = np.array([[1,2,3]])\n",
        "w2 = np.array([[4,5,6]])\n",
        "w_stack = np.stack([w1,w2])\n",
        "print(w_stack.shape)"
      ],
      "id": "296e3ea6-75c5-40de-bb0f-ed0bafbc2be8"
    }
  ],
  "nbformat": 4,
  "nbformat_minor": 5,
  "metadata": {
    "kernelspec": {
      "name": "python3",
      "display_name": "git-pages",
      "language": "python"
    },
    "language_info": {
      "name": "python",
      "codemirror_mode": {
        "name": "ipython",
        "version": "3"
      },
      "file_extension": ".py",
      "mimetype": "text/x-python",
      "nbconvert_exporter": "python",
      "pygments_lexer": "ipython3",
      "version": "3.10.11"
    }
  }
}
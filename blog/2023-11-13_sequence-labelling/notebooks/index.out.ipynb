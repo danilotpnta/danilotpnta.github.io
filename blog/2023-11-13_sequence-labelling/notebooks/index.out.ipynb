{
  "cells": [
    {
      "cell_type": "markdown",
      "metadata": {},
      "source": [
        "# Notebook\n",
        "\n",
        "\\| [Danilo Toapanta]()  \n",
        "2023-11-07"
      ],
      "id": "61b7bba0-3b21-49dc-a455-db0890ba53a2"
    },
    {
      "cell_type": "code",
      "execution_count": 3,
      "metadata": {},
      "outputs": [
        {
          "output_type": "stream",
          "name": "stdout",
          "text": [
            "(2, 1, 3)"
          ]
        }
      ],
      "source": [
        "import numpy as np\n",
        "w1 = np.array([[1,2,3]])\n",
        "w2 = np.array([[4,5,6]])\n",
        "w_stack = np.stack([w1,w2])\n",
        "print(w_stack.shape)"
      ],
      "id": "67fc6ae8-5c8c-4339-a7d3-964c7d54b539"
    }
  ],
  "nbformat": 4,
  "nbformat_minor": 5,
  "metadata": {
    "kernelspec": {
      "name": "python3",
      "display_name": "git-pages",
      "language": "python"
    },
    "language_info": {
      "name": "python",
      "codemirror_mode": {
        "name": "ipython",
        "version": "3"
      },
      "file_extension": ".py",
      "mimetype": "text/x-python",
      "nbconvert_exporter": "python",
      "pygments_lexer": "ipython3",
      "version": "3.10.11"
    }
  }
}
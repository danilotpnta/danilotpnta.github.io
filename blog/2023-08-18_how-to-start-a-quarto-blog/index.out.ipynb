{
  "cells": [
    {
      "cell_type": "markdown",
      "metadata": {},
      "source": [
        "# How to start a quarto blog\n",
        "\n",
        "\\| [Danilo Toapanta]()  \n",
        "2023-08-18"
      ],
      "id": "71d36292-1f2c-4c0a-a598-422164b24a98"
    },
    {
      "cell_type": "code",
      "execution_count": null,
      "metadata": {},
      "outputs": [],
      "source": [
        "print(\"Hello world\")"
      ],
      "id": "b48d5153-429b-40ed-bf93-e33caaa07c7f"
    }
  ],
  "nbformat": 4,
  "nbformat_minor": 5,
  "metadata": {
    "kernelspec": {
      "name": "git-pages",
      "display_name": "git-pages",
      "language": "python"
    },
    "language_info": {
      "name": "python",
      "codemirror_mode": {
        "name": "ipython",
        "version": "3"
      },
      "file_extension": ".py",
      "mimetype": "text/x-python",
      "nbconvert_exporter": "python",
      "pygments_lexer": "ipython3",
      "version": "3.10.11"
    }
  }
}
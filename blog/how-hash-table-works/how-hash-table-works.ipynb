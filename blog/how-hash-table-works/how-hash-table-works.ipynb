{
 "cells": [
  {
   "cell_type": "raw",
   "source": [
    "---\n",
    "title: \"How PCY Algorithm works\"\n",
    "date: \"2023-06-05\"\n",
    "#author: \"\"\n",
    "#format:\n",
    " #   html:\n",
    "  #      code-fold: false\n",
    "format: ipynb\n",
    "jupyter: git-pages\n",
    "---"
   ],
   "metadata": {
    "collapsed": false
   }
  },
  {
   "cell_type": "code",
   "execution_count": 1,
   "outputs": [],
   "source": [
    "import numpy as np\n",
    "import pandas as pd\n",
    "import itertools"
   ],
   "metadata": {
    "collapsed": false,
    "ExecuteTime": {
     "start_time": "2023-06-05T23:00:17.380391Z",
     "end_time": "2023-06-05T23:00:18.293913Z"
    }
   }
  },
  {
   "cell_type": "markdown",
   "source": [
    "## Initializing the transaction baskets"
   ],
   "metadata": {
    "collapsed": false
   }
  },
  {
   "cell_type": "code",
   "execution_count": 2,
   "outputs": [
    {
     "data": {
      "text/plain": "          Items                                             Pairs\n0     [1, 2, 5]                          [(1, 2), (1, 5), (2, 5)]\n1     [2, 3, 5]                          [(2, 3), (2, 5), (3, 5)]\n2        [4, 5]                                          [(4, 5)]\n3     [1, 6, 7]                          [(1, 6), (1, 7), (6, 7)]\n4  [2, 3, 5, 7]  [(2, 3), (2, 5), (2, 7), (3, 5), (3, 7), (5, 7)]\n5     [1, 2, 7]                          [(1, 2), (1, 7), (2, 7)]",
      "text/html": "<div>\n<style scoped>\n    .dataframe tbody tr th:only-of-type {\n        vertical-align: middle;\n    }\n\n    .dataframe tbody tr th {\n        vertical-align: top;\n    }\n\n    .dataframe thead th {\n        text-align: right;\n    }\n</style>\n<table border=\"1\" class=\"dataframe\">\n  <thead>\n    <tr style=\"text-align: right;\">\n      <th></th>\n      <th>Items</th>\n      <th>Pairs</th>\n    </tr>\n  </thead>\n  <tbody>\n    <tr>\n      <th>0</th>\n      <td>[1, 2, 5]</td>\n      <td>[(1, 2), (1, 5), (2, 5)]</td>\n    </tr>\n    <tr>\n      <th>1</th>\n      <td>[2, 3, 5]</td>\n      <td>[(2, 3), (2, 5), (3, 5)]</td>\n    </tr>\n    <tr>\n      <th>2</th>\n      <td>[4, 5]</td>\n      <td>[(4, 5)]</td>\n    </tr>\n    <tr>\n      <th>3</th>\n      <td>[1, 6, 7]</td>\n      <td>[(1, 6), (1, 7), (6, 7)]</td>\n    </tr>\n    <tr>\n      <th>4</th>\n      <td>[2, 3, 5, 7]</td>\n      <td>[(2, 3), (2, 5), (2, 7), (3, 5), (3, 7), (5, 7)]</td>\n    </tr>\n    <tr>\n      <th>5</th>\n      <td>[1, 2, 7]</td>\n      <td>[(1, 2), (1, 7), (2, 7)]</td>\n    </tr>\n  </tbody>\n</table>\n</div>"
     },
     "metadata": {},
     "output_type": "display_data"
    }
   ],
   "source": [
    "# initialize lists\n",
    "data = [[1,2,5], [2,3,5], [4,5], [1,6,7], [2,3,5,7], [1,2,7]]\n",
    "pairs = [list(itertools.combinations(i, 2)) for i in data]\n",
    "mydict={'Items':data, 'Pairs': pairs}\n",
    "\n",
    "# Create the pandas DataFrame with column name is provided explicitly\n",
    "df = pd.DataFrame(mydict)\n",
    "\n",
    "# print dataframe.\n",
    "display(df)"
   ],
   "metadata": {
    "collapsed": false,
    "ExecuteTime": {
     "start_time": "2023-06-05T23:00:18.301322Z",
     "end_time": "2023-06-05T23:00:18.332237Z"
    }
   }
  },
  {
   "cell_type": "markdown",
   "source": [
    "## Calculating the supports"
   ],
   "metadata": {
    "collapsed": false
   }
  },
  {
   "cell_type": "code",
   "execution_count": 3,
   "outputs": [
    {
     "name": "stdout",
     "output_type": "stream",
     "text": [
      "[[1, 2, 5], [2, 3, 5], [4, 5], [1, 6, 7], [2, 3, 5, 7], [1, 2, 7]]\n"
     ]
    }
   ],
   "source": [
    "print(data)"
   ],
   "metadata": {
    "collapsed": false,
    "ExecuteTime": {
     "start_time": "2023-06-05T23:00:18.330044Z",
     "end_time": "2023-06-05T23:00:18.334695Z"
    }
   }
  },
  {
   "cell_type": "code",
   "execution_count": 4,
   "outputs": [
    {
     "name": "stdout",
     "output_type": "stream",
     "text": [
      "{1: 0, 2: 0, 5: 0, 3: 0, 4: 0, 6: 0, 7: 0}\n"
     ]
    }
   ],
   "source": [
    "supports = {}\n",
    "for row in data:\n",
    "    for e in row:\n",
    "        if e not in supports:\n",
    "            supports[e] = 0\n",
    "\n",
    "# Sorting dictionary\n",
    "sorted_dict = supports.keys()\n",
    "suppports = sorted(sorted_dict)\n",
    "print(supports)"
   ],
   "metadata": {
    "collapsed": false,
    "ExecuteTime": {
     "start_time": "2023-06-05T23:00:18.338297Z",
     "end_time": "2023-06-05T23:00:18.343197Z"
    }
   }
  },
  {
   "cell_type": "code",
   "execution_count": 5,
   "outputs": [
    {
     "name": "stdout",
     "output_type": "stream",
     "text": [
      "{1: 3, 2: 4, 5: 4, 3: 2, 4: 1, 6: 1, 7: 3}\n"
     ]
    }
   ],
   "source": [
    "for row in data:\n",
    "    for e in row:\n",
    "        supports[e] += 1\n",
    "\n",
    "print(supports)"
   ],
   "metadata": {
    "collapsed": false,
    "ExecuteTime": {
     "start_time": "2023-06-05T23:00:18.348951Z",
     "end_time": "2023-06-05T23:00:18.441247Z"
    }
   }
  },
  {
   "cell_type": "code",
   "execution_count": 17,
   "outputs": [
    {
     "data": {
      "text/plain": "   Itemset  Sup\n0        1    3\n1        2    4\n2        5    4\n3        3    2\n4        4    1\n5        6    1\n6        7    3",
      "text/html": "<div>\n<style scoped>\n    .dataframe tbody tr th:only-of-type {\n        vertical-align: middle;\n    }\n\n    .dataframe tbody tr th {\n        vertical-align: top;\n    }\n\n    .dataframe thead th {\n        text-align: right;\n    }\n</style>\n<table border=\"1\" class=\"dataframe\">\n  <thead>\n    <tr style=\"text-align: right;\">\n      <th></th>\n      <th>Itemset</th>\n      <th>Sup</th>\n    </tr>\n  </thead>\n  <tbody>\n    <tr>\n      <th>0</th>\n      <td>1</td>\n      <td>3</td>\n    </tr>\n    <tr>\n      <th>1</th>\n      <td>2</td>\n      <td>4</td>\n    </tr>\n    <tr>\n      <th>2</th>\n      <td>5</td>\n      <td>4</td>\n    </tr>\n    <tr>\n      <th>3</th>\n      <td>3</td>\n      <td>2</td>\n    </tr>\n    <tr>\n      <th>4</th>\n      <td>4</td>\n      <td>1</td>\n    </tr>\n    <tr>\n      <th>5</th>\n      <td>6</td>\n      <td>1</td>\n    </tr>\n    <tr>\n      <th>6</th>\n      <td>7</td>\n      <td>3</td>\n    </tr>\n  </tbody>\n</table>\n</div>"
     },
     "metadata": {},
     "output_type": "display_data"
    }
   ],
   "source": [
    "#| label: tbl-support\n",
    "#| tbl-cap: Support\n",
    "item = [ key for key, value in supports.items()]\n",
    "supp = [ value for key, value in supports.items()]\n",
    "unique_items_count = {'Itemset': item, 'Sup': supp}\n",
    "\n",
    "df_item_sup = pd.DataFrame(unique_items_count)\n",
    "display(df_item_sup)"
   ],
   "metadata": {
    "collapsed": false,
    "ExecuteTime": {
     "start_time": "2023-06-05T23:00:39.392276Z",
     "end_time": "2023-06-05T23:00:39.401511Z"
    }
   }
  },
  {
   "cell_type": "markdown",
   "source": [
    "### Pass 1"
   ],
   "metadata": {
    "collapsed": false
   }
  },
  {
   "cell_type": "code",
   "execution_count": 7,
   "outputs": [],
   "source": [
    "def hash_f_pair(i,j):\n",
    "    return (i*j) % 7"
   ],
   "metadata": {
    "collapsed": false,
    "ExecuteTime": {
     "start_time": "2023-06-05T23:00:18.367301Z",
     "end_time": "2023-06-05T23:00:18.442868Z"
    }
   }
  },
  {
   "cell_type": "code",
   "execution_count": 8,
   "outputs": [
    {
     "name": "stdout",
     "output_type": "stream",
     "text": [
      "[(1, 2), (1, 5), (2, 5), (2, 3), (3, 5), (4, 5), (1, 6), (1, 7), (6, 7), (2, 7), (3, 7), (5, 7)]\n"
     ]
    }
   ],
   "source": [
    "unique_items = []\n",
    "for row in pairs:\n",
    "    for e in row:\n",
    "        if e not in unique_items:\n",
    "            unique_items.append(e)\n",
    "print(unique_items)\n"
   ],
   "metadata": {
    "collapsed": false,
    "ExecuteTime": {
     "start_time": "2023-06-05T23:00:18.377244Z",
     "end_time": "2023-06-05T23:00:18.443268Z"
    }
   }
  },
  {
   "cell_type": "code",
   "execution_count": 9,
   "outputs": [
    {
     "data": {
      "text/plain": "2"
     },
     "execution_count": 9,
     "metadata": {},
     "output_type": "execute_result"
    }
   ],
   "source": [
    "unique_items[0][1]"
   ],
   "metadata": {
    "collapsed": false,
    "ExecuteTime": {
     "start_time": "2023-06-05T23:00:18.382795Z",
     "end_time": "2023-06-05T23:00:18.452038Z"
    }
   }
  },
  {
   "cell_type": "code",
   "execution_count": 10,
   "outputs": [
    {
     "name": "stdout",
     "output_type": "stream",
     "text": [
      "[2, 5, 3, 6, 1, 6, 6, 0, 0, 0, 0, 0]\n"
     ]
    }
   ],
   "source": [
    "hash_value_pairs = []\n",
    "for e in unique_items:\n",
    "        hash_value_pairs.append(hash_f_pair(e[0],e[1]))\n",
    "print(hash_value_pairs)"
   ],
   "metadata": {
    "collapsed": false,
    "ExecuteTime": {
     "start_time": "2023-06-05T23:00:18.392646Z",
     "end_time": "2023-06-05T23:00:18.462775Z"
    }
   }
  },
  {
   "cell_type": "code",
   "execution_count": 11,
   "outputs": [
    {
     "name": "stdout",
     "output_type": "stream",
     "text": [
      "{'(1, 2)': 0, '(1, 5)': 0, '(2, 5)': 0, '(2, 3)': 0, '(3, 5)': 0, '(4, 5)': 0, '(1, 6)': 0, '(1, 7)': 0, '(6, 7)': 0, '(2, 7)': 0, '(3, 7)': 0, '(5, 7)': 0}\n"
     ]
    }
   ],
   "source": [
    "my_dict2 = {}\n",
    "for pair in unique_items:\n",
    "    my_dict2[str(pair)] = 0\n",
    "print(my_dict2)"
   ],
   "metadata": {
    "collapsed": false,
    "ExecuteTime": {
     "start_time": "2023-06-05T23:00:18.399654Z",
     "end_time": "2023-06-05T23:00:18.463038Z"
    }
   }
  },
  {
   "cell_type": "code",
   "execution_count": 12,
   "outputs": [
    {
     "name": "stdout",
     "output_type": "stream",
     "text": [
      "{'(1, 2)': 2, '(1, 5)': 1, '(2, 5)': 3, '(2, 3)': 2, '(3, 5)': 2, '(4, 5)': 1, '(1, 6)': 1, '(1, 7)': 2, '(6, 7)': 1, '(2, 7)': 2, '(3, 7)': 1, '(5, 7)': 1}\n"
     ]
    }
   ],
   "source": [
    "for row in pairs:\n",
    "    for e in row:\n",
    "        my_dict2[str(e)] +=1\n",
    "\n",
    "print(my_dict2)"
   ],
   "metadata": {
    "collapsed": false,
    "ExecuteTime": {
     "start_time": "2023-06-05T23:00:18.403951Z",
     "end_time": "2023-06-05T23:00:18.463294Z"
    }
   }
  },
  {
   "cell_type": "code",
   "execution_count": 13,
   "outputs": [
    {
     "name": "stdout",
     "output_type": "stream",
     "text": [
      "[2, 1, 3, 2, 2, 1, 1, 2, 1, 2, 1, 1]\n"
     ]
    }
   ],
   "source": [
    "counts = [ value for key, value in my_dict2.items()]\n",
    "print(counts)\n",
    "# df_counts = pd.DataFrame()"
   ],
   "metadata": {
    "collapsed": false,
    "ExecuteTime": {
     "start_time": "2023-06-05T23:00:18.414693Z",
     "end_time": "2023-06-05T23:00:18.463543Z"
    }
   }
  },
  {
   "cell_type": "code",
   "execution_count": 14,
   "outputs": [
    {
     "name": "stdout",
     "output_type": "stream",
     "text": [
      "{'Pairs': [(1, 2), (1, 5), (2, 5), (2, 3), (3, 5), (4, 5), (1, 6), (1, 7), (6, 7), (2, 7), (3, 7), (5, 7)], 'Count': [2, 1, 3, 2, 2, 1, 1, 2, 1, 2, 1, 1]}\n"
     ]
    }
   ],
   "source": [
    "unique_items_count = {'Pairs': unique_items, 'Count': counts}\n",
    "print(unique_items_count)"
   ],
   "metadata": {
    "collapsed": false,
    "ExecuteTime": {
     "start_time": "2023-06-05T23:00:18.426869Z",
     "end_time": "2023-06-05T23:00:18.592032Z"
    }
   }
  },
  {
   "cell_type": "code",
   "execution_count": 19,
   "outputs": [
    {
     "data": {
      "text/plain": "   Itemset  Sup\n0        1    3\n1        2    4\n2        5    4\n3        3    2\n4        4    1\n5        6    1\n6        7    3",
      "text/html": "<div>\n<style scoped>\n    .dataframe tbody tr th:only-of-type {\n        vertical-align: middle;\n    }\n\n    .dataframe tbody tr th {\n        vertical-align: top;\n    }\n\n    .dataframe thead th {\n        text-align: right;\n    }\n</style>\n<table border=\"1\" class=\"dataframe\">\n  <thead>\n    <tr style=\"text-align: right;\">\n      <th></th>\n      <th>Itemset</th>\n      <th>Sup</th>\n    </tr>\n  </thead>\n  <tbody>\n    <tr>\n      <th>0</th>\n      <td>1</td>\n      <td>3</td>\n    </tr>\n    <tr>\n      <th>1</th>\n      <td>2</td>\n      <td>4</td>\n    </tr>\n    <tr>\n      <th>2</th>\n      <td>5</td>\n      <td>4</td>\n    </tr>\n    <tr>\n      <th>3</th>\n      <td>3</td>\n      <td>2</td>\n    </tr>\n    <tr>\n      <th>4</th>\n      <td>4</td>\n      <td>1</td>\n    </tr>\n    <tr>\n      <th>5</th>\n      <td>6</td>\n      <td>1</td>\n    </tr>\n    <tr>\n      <th>6</th>\n      <td>7</td>\n      <td>3</td>\n    </tr>\n  </tbody>\n</table>\n</div>"
     },
     "metadata": {},
     "output_type": "display_data"
    }
   ],
   "source": [
    "df_counts = pd.DataFrame(unique_items_count)\n",
    "display(df_counts)"
   ],
   "metadata": {
    "collapsed": false,
    "ExecuteTime": {
     "start_time": "2023-06-05T23:01:56.284991Z",
     "end_time": "2023-06-05T23:01:56.290936Z"
    }
   }
  },
  {
   "cell_type": "markdown",
   "source": [
    "Minium support count is 2 so we eliminate from the Pair list the items that have less than 2 from @tbl-support"
   ],
   "metadata": {
    "collapsed": false
   }
  },
  {
   "cell_type": "code",
   "execution_count": 20,
   "outputs": [
    {
     "name": "stdout",
     "output_type": "stream",
     "text": [
      "\n"
     ]
    }
   ],
   "source": [
    "print()"
   ],
   "metadata": {
    "collapsed": false,
    "ExecuteTime": {
     "start_time": "2023-06-05T23:01:59.080080Z",
     "end_time": "2023-06-05T23:01:59.090276Z"
    }
   }
  },
  {
   "cell_type": "code",
   "execution_count": 16,
   "outputs": [],
   "source": [],
   "metadata": {
    "collapsed": false,
    "ExecuteTime": {
     "start_time": "2023-06-05T23:00:18.454304Z",
     "end_time": "2023-06-05T23:00:18.603163Z"
    }
   }
  }
 ],
 "metadata": {
  "kernelspec": {
   "name": "git-pages",
   "language": "python",
   "display_name": "git-pages"
  },
  "language_info": {
   "codemirror_mode": {
    "name": "ipython",
    "version": 2
   },
   "file_extension": ".py",
   "mimetype": "text/x-python",
   "name": "python",
   "nbconvert_exporter": "python",
   "pygments_lexer": "ipython2",
   "version": "2.7.6"
  }
 },
 "nbformat": 4,
 "nbformat_minor": 0
}

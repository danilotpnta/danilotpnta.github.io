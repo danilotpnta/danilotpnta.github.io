{
  "cells": [
    {
      "cell_type": "markdown",
      "metadata": {},
      "source": [
        "# Numpy reshape RGB image to 1D array\n",
        "\n",
        "\\| [Danilo Toapanta]()  \n",
        "2023-11-07\n",
        "\n",
        "Imagine you want to train a NN with:\n",
        "\n",
        "-   X: s x 3 x 32 x 32\n",
        "\n",
        "Where:\n",
        "\n",
        "-   s: num samples\n",
        "-   3 x 32 x 32: color img\n",
        "\n",
        "Now to feed in the NN we want the shapes to be:\n",
        "\n",
        "-   X: s x (3072)\n",
        "\n",
        "Do we lose information? The answers is not, we just reshape X.\n",
        "\n",
        "The following takes 2 imgs, with dimensions 2x2:"
      ],
      "id": "6fa5f8dd-9c29-45d4-8568-ac3e0d1ab65f"
    },
    {
      "cell_type": "code",
      "execution_count": 1,
      "metadata": {},
      "outputs": [
        {
          "output_type": "stream",
          "name": "stdout",
          "text": [
            "Original Images Shape: (2, 3, 2, 2)\n",
            "Original Images:\n",
            " [[[[ 1  2]\n",
            "   [ 3  4]]\n",
            "\n",
            "  [[ 5  6]\n",
            "   [ 7  8]]\n",
            "\n",
            "  [[ 9 10]\n",
            "   [11 12]]]\n",
            "\n",
            "\n",
            " [[[13 14]\n",
            "   [15 16]]\n",
            "\n",
            "  [[17 18]\n",
            "   [19 20]]\n",
            "\n",
            "  [[21 22]\n",
            "   [23 24]]]]\n",
            "Reshaped Images Shape: (2, 12)\n",
            "Reshaped Images:\n",
            " [[ 1  2  3  4  5  6  7  8  9 10 11 12]\n",
            " [13 14 15 16 17 18 19 20 21 22 23 24]]"
          ]
        }
      ],
      "source": [
        "import numpy as np\n",
        "\n",
        "# Create example 3x2x2 images (two images)\n",
        "original_images = np.array([[[[1, 2],\n",
        "                             [3, 4]],\n",
        "                            [[5, 6],\n",
        "                             [7, 8]],\n",
        "                            [[9, 10],\n",
        "                             [11, 12]]],\n",
        "\n",
        "                           [[[13, 14],\n",
        "                             [15, 16]],\n",
        "                            [[17, 18],\n",
        "                             [19, 20]],\n",
        "                            [[21, 22],\n",
        "                             [23, 24]]]])\n",
        "\n",
        "# Print the shape of the original images\n",
        "print(\"Original Images Shape:\", original_images.shape)\n",
        "\n",
        "# Print the original images\n",
        "print(\"Original Images:\\n\", original_images)\n",
        "\n",
        "# Reshape the images into num_imgs x (3*2*2) matrices\n",
        "num_imgs = original_images.shape[0]\n",
        "reshaped_images = original_images.reshape(num_imgs, -1)\n",
        "\n",
        "# Print the shape of the reshaped images\n",
        "print(\"Reshaped Images Shape:\", reshaped_images.shape)\n",
        "\n",
        "# Print the reshaped images\n",
        "print(\"Reshaped Images:\\n\", reshaped_images)\n"
      ],
      "id": "cell-2"
    }
  ],
  "nbformat": 4,
  "nbformat_minor": 5,
  "metadata": {
    "kernelspec": {
      "name": "python3",
      "display_name": "git-pages",
      "language": "python"
    },
    "language_info": {
      "name": "python",
      "codemirror_mode": {
        "name": "ipython",
        "version": "3"
      },
      "file_extension": ".py",
      "mimetype": "text/x-python",
      "nbconvert_exporter": "python",
      "pygments_lexer": "ipython3",
      "version": "3.10.11"
    }
  }
}
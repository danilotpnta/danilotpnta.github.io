{
  "cells": [
    {
      "cell_type": "markdown",
      "metadata": {},
      "source": [
        "# Probability Theory in Machine Learning\n",
        "\n",
        "\\| [Danilo Toapanta]()  \n",
        "2023-09-24\n",
        "\n",
        "$$\n",
        "    \\underline{t} = \n",
        "$$"
      ],
      "id": "b4ca00ad-f445-4a7b-a369-e5089f193cb9"
    }
  ],
  "nbformat": 4,
  "nbformat_minor": 5,
  "metadata": {
    "kernelspec": {
      "name": "python3",
      "display_name": "git-pages",
      "language": "python"
    },
    "language_info": {
      "name": "python",
      "codemirror_mode": {
        "name": "ipython",
        "version": "3"
      },
      "file_extension": ".py",
      "mimetype": "text/x-python",
      "nbconvert_exporter": "python",
      "pygments_lexer": "ipython3",
      "version": "3.10.11"
    }
  }
}
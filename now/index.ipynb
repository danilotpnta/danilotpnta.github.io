{
  "cells": [
    {
      "cell_type": "raw",
      "metadata": {},
      "source": [
        "---\n",
        "pagetitle: \"Danilo Toapanta - Now\"\n",
        "css: index.css\n",
        "sidebar: false\n",
        "---"
      ],
      "id": "76a2cd51"
    },
    {
      "cell_type": "markdown",
      "metadata": {},
      "source": [
        "<div style=\"padding-top: 1em;\"></div>\n",
        "\n",
        "{{< include _2023-aug.qmd >}}\n",
        "\n",
        "<div class=\"center\" style=\"padding-top: 4.5em; padding-bottom: 1em;\">\n",
        "<button style=\"padding: 10px; font-weight: 400; opacity: 0.8;\" onclick=\"myFunction()\">Archive <i style=\"padding-left:2px;\" class='bi bi-archive'></i></button>\n",
        "</div>\n",
        "\n",
        "<div id=\"myDIV\" style=\"display:none; padding-top: 0em;\" >\n",
        "<div style=\"padding-top: 5em;\"></div> \n",
        "{{< include _2023-jul.qmd >}}\n",
        "<div class=\"divider\"><div class=\"inner\"></div></div>\n",
        "{{< include _2023-jun.qmd >}}\n",
        "</div>\n",
        "\n",
        "\n",
        "\n",
        "```{js}\n",
        "#| echo: false\n",
        "function myFunction() {\n",
        "  var x = document.getElementById(\"myDIV\");\n",
        "  if (x.style.display === \"none\") {\n",
        "    x.style.display = \"block\";\n",
        "  } else {\n",
        "    x.style.display = \"none\";\n",
        "  }\n",
        "}\n",
        "```\n"
      ],
      "id": "7ea199dc"
    }
  ],
  "metadata": {
    "kernelspec": {
      "name": "mnist-kernel",
      "language": "python",
      "display_name": "mnist-kernel"
    }
  },
  "nbformat": 4,
  "nbformat_minor": 5
}
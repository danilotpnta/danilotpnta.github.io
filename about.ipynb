{
  "cells": [
    {
      "cell_type": "raw",
      "id": "95068d9c",
      "metadata": {},
      "source": [
        "---\n",
        "pagetitle: \"Danilo Toapanta - About\"\n",
        "sidebar: false\n",
        "---"
      ]
    },
    {
      "cell_type": "code",
      "execution_count": 3,
      "id": "34e93a53",
      "metadata": {},
      "outputs": [
        {
          "name": "stdout",
          "output_type": "stream",
          "text": [
            "blog/2023-01-29-Python-project\n"
          ]
        }
      ],
      "source": [
        "import glob\n",
        "import os\n",
        "\n",
        "list_of_files = glob.glob('blog/*') # * means all if need specific format then *.csv\n",
        "latest_file = max(list_of_files, key=os.path.getctime)\n",
        "print(latest_file)"
      ]
    },
    {
      "cell_type": "markdown",
      "id": "2e8e422c",
      "metadata": {},
      "source": [
        ":::{.disable-link-underline}\n",
        "\n",
        "\n",
        "\n",
        "```{=html}\n",
        "<div class=\"quarto-about-solana column-body\">\n",
        "    <div class=\"about-entity\">\n",
        "        <div class=\"entity-contents\">\n",
        "            <div class=\"about-contents\">\n",
        "                <main class=\"content\" id=\"quarto-document-content\">\n",
        "                    <p>\n",
        "                        <code>Hi, there! This is Danilo.</code>\n",
        "                    </p>\n",
        "                    <p>I’m an AI researcher based in the Netherlands.</p>\n",
        "                    <p>I studied Electrical Engineering at University of Twente and now I am doing my master in Artificial Intillegence.</p>\n",
        "                    <p>When I am not trying to figure out how my computer works, I like to swim, <a href=\"books/index.qmd\" style=\"color:inherit; text-decoration:underline;text-decoration-color:#a3a6a8a1 \">read books</a>, tailor my clothes, and spend time with my family.</p>\n",
        "                    <p>\n",
        "                        You can look me up on <a href=\"https://github.com/danilotpnta?tab=repositories\" target=\"_blank\">Github</a>↗.<br> \n",
        "                        Check out my <a href=\"https://www.linkedin.com/in/DaniloToapnta/\" target=\"_blank\">LinkedIn</a>↗.<br> \n",
        "                        Read my lastest <a href=\"http://localhost:4200/about.html\">post</a>.<br> \n",
        "                        My (outdated) <a href=\"http://localhost:4200/about.html\">résumé</a>.<br> <a href=\"mailto:danilotpnta@gmail.com?subject=%5BWebsite%5D%20-%20%27Insert%20Subject%20Here%27\" target=\"_blank\">Message me</a>↗.<br>\n",
        "                        Or see <a href=\"now/index.qmd\">what I’m working right now</a>.\n",
        "                    </p>\n",
        "                </main>\n",
        "            </div>\n",
        "        </div>\n",
        "        <img src=\"assets/Danilo.jpeg\" class=\"about-image rounded\" style=\"width: 15em;\">\n",
        "    </div>\n",
        "</div>\n",
        "\n",
        "<script type=\"text/javascript\">\n",
        "    window.onload = function(){\n",
        "        // var links = document.getElementsByTagName('a');\n",
        "        // window.alert(links);\n",
        "        // console.log(\"links:\", links)\n",
        "    }\n",
        "</script>\n",
        "\n",
        "\n",
        "```\n",
        "\n",
        ":::\n"
      ]
    }
  ],
  "metadata": {
    "kernelspec": {
      "display_name": "ML",
      "language": "python",
      "name": "ml"
    },
    "language_info": {
      "codemirror_mode": {
        "name": "ipython",
        "version": 3
      },
      "file_extension": ".py",
      "mimetype": "text/x-python",
      "name": "python",
      "nbconvert_exporter": "python",
      "pygments_lexer": "ipython3",
      "version": "3.10.10"
    }
  },
  "nbformat": 4,
  "nbformat_minor": 5
}

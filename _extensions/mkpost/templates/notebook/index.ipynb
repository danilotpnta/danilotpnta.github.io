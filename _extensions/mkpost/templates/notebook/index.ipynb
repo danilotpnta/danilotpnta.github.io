{
 "cells": [
  {
   "cell_type": "raw",
   "metadata": {
    "collapsed": false
   },
   "source": [
    "---\n",
    "title: \"Jupyter Notebook Title\"\n",
    "description: \"Description of this Notebook\"\n",
    "date: \"1999-12-30\"\n",
    "categories: [All, TAGS, Python]\n",
    "links:\n",
    "    - icon: download\n",
    "      name: Code\n",
    "      file-name: title.out.ipynb\n",
    "      href: index.out.ipynb\n",
    "format:\n",
    "    html:\n",
    "        code-fold: false\n",
    "        footnotes-hover: true\n",
    "        toc: true\n",
    "    ipynb: default \n",
    "jupyter: git-pages\n",
    "---"
   ]
  },
  {
   "cell_type": "code",
   "execution_count": null,
   "metadata": {},
   "outputs": [],
   "source": [
    "print(\"Hello world\")"
   ]
  }
 ],
 "metadata": {
  "kernelspec": {
   "display_name": "git-pages",
   "language": "python",
   "name": "git-pages"
  },
  "language_info": {
   "codemirror_mode": {
    "name": "ipython",
    "version": 3
   },
   "file_extension": ".py",
   "mimetype": "text/x-python",
   "name": "python",
   "nbconvert_exporter": "python",
   "pygments_lexer": "ipython3",
   "version": "3.10.11"
  }
 },
 "nbformat": 4,
 "nbformat_minor": 0
}
